{
 "cells": [
  {
   "cell_type": "markdown",
   "metadata": {},
   "source": [
    "# Roll number : 235229116\n",
    "## Name : Mohamed Zaheerudeen\n",
    "### LAB-1"
   ]
  },
  {
   "cell_type": "code",
   "execution_count": 2,
   "metadata": {},
   "outputs": [
    {
     "name": "stdout",
     "output_type": "stream",
     "text": [
      "Enter a length3\n",
      "Enter a breadth4\n",
      "The area of retangle is 12\n",
      "The perimeter of retangle is 14\n"
     ]
    }
   ],
   "source": [
    "#lab 1 \n",
    "'''Question1. Write a program in Python to input length and breadth of a rectangle and print the\n",
    "area and perimeter of it.'''\n",
    "l=int(input(\"Enter a length\"))\n",
    "b=int(input(\"Enter a breadth\"))\n",
    "area=l*b\n",
    "p=2*(l+b)\n",
    "print(\"The area of retangle is\",area)\n",
    "print(\"The perimeter of retangle is\",p)\n"
   ]
  },
  {
   "cell_type": "code",
   "execution_count": 8,
   "metadata": {},
   "outputs": [
    {
     "name": "stdout",
     "output_type": "stream",
     "text": [
      "Enter your annual income300001\n",
      "Enter your namesandy\n",
      "Name sandy \n",
      " annual income 300001 \n",
      " Tax 60000.200000000004\n"
     ]
    }
   ],
   "source": [
    "'''Question2. Write a program, which accepts annual basic salary of an employee and calculates\n",
    "and displays the Income tax as per the following rules.\n",
    " If Basic is less than Rs. 1,50,000/-, then Tax =\n",
    "0.\n",
    " If Basic is from Rs.1,50,000/- to Rs. 3,00,000/-, then tax is 20%.\n",
    " If Basic is greater than Rs.3,00,000/-, then tax is 30%.\n",
    " Print name, annual income and tax.\n",
    " Write test cases to validate all conditions'''\n",
    "\n",
    "\n",
    "\n",
    "salary= int(input(\"Enter your annual income\"))\n",
    "name=input(\"Enter your name\")\n",
    "if(salary<150000):\n",
    "  tax=0\n",
    "elif(salary>150000&salary<300000):\n",
    "  tax=salary*0.2\n",
    "else:\n",
    "  tax=salary*0.3\n",
    "print(\"Name\",name,'\\n',\"annual income\",salary,'\\n',\"Tax\",tax)"
   ]
  },
  {
   "cell_type": "code",
   "execution_count": 2,
   "metadata": {},
   "outputs": [
    {
     "name": "stdout",
     "output_type": "stream",
     "text": [
      "Enter product name 1: bat\n",
      "rate of product no 1: 500\n",
      "quantity of product 1: 2\n",
      "Enter product name no 2: ball\n",
      "rate of product 2: 50\n",
      "quantity of product  2: 10\n",
      "Enter product name 3: uniform\n",
      "rate of product 3: 1000\n",
      "quantity of product 3: 1\n",
      "bat 2 \n",
      " ball 10 \n",
      " uniform 1 \n",
      " Total amount = 2500\n",
      "discount is= 500.0 \n",
      " your final amount to be pay 2000.0\n"
     ]
    }
   ],
   "source": [
    "'''Question3. Write a program to accept quantity and rate for three (3) items. Compute the total\n",
    "sales amount. Also compute and print the discount as follows:\n",
    " Amount > Rs. 2000/- : 20% discount\n",
    " Amount between Rs. 1500/- to Rs.1999/- :15% discount\n",
    " Amount between Rs. 1000/- to Rs.1499/- 8 % discount\n",
    " Compute final amount to be paid.\n",
    " Print name, rate and quantity of 3 items. Then print total sales amount, total discount\n",
    "and final amount to be paid to shop.\n",
    " Write 3 test cases to validate all conditions'''\n",
    "#to get the 3 items name,quantity and rate\n",
    "\n",
    "p1=input(\"Enter product name 1: \")\n",
    "r1=int(input(\"rate of product no 1: \"))\n",
    "q1=int(input(\"quantity of product 1: \"))\n",
    "\n",
    "p2=input(\"Enter product name no 2: \")\n",
    "r2=int(input(\"rate of product 2: \"))\n",
    "q2=int(input(\"quantity of product  2: \"))\n",
    "\n",
    "p3=input(\"Enter product name 3: \")\n",
    "r3=int(input(\"rate of product 3: \"))\n",
    "q3=int(input(\"quantity of product 3: \"))\n",
    "\n",
    "amount=(r1*q1)+(r2*q2)+(r3*q3)\n",
    "\n",
    "if(amount>2000):\n",
    "    dis=amount*0.2\n",
    "   \n",
    "elif(amount<2000 & amount>=1500):\n",
    "    dis=amount*0.15\n",
    "    \n",
    "else:\n",
    "    dis=amount*0.08\n",
    "    \n",
    "paidamo=amount-dis\n",
    "\n",
    "print(p1,q1,\"\\n\",p2,q2,'\\n',p3,q3,'\\n',\"Total amount =\",amount)\n",
    "print(\"discount is=\",dis,'\\n',\"your final amount to be pay\",paidamo)\n",
    "\n",
    "\n"
   ]
  },
  {
   "cell_type": "code",
   "execution_count": 3,
   "metadata": {},
   "outputs": [
    {
     "name": "stdout",
     "output_type": "stream",
     "text": [
      "188.88888888888889\n",
      "7\n"
     ]
    }
   ],
   "source": [
    "'''Question4. Evaluate the expressions using Pen and Paper first and then print the value.\n",
    " X1=(11+31+23+8+7+5)/((1-(1/2)-(1/20)))\n",
    " X2=(((10*8)+8-((7//5)%(5**4)))&3)|(2<<1)'''\n",
    "\n",
    "X1=(11+31+23+8+7+5)/((1-(1/2)-(1/20)))\n",
    "X2=(((10*8)+8-((7//5)%(5**4)))&3)|(2<<1)\n",
    "\n",
    "print(X1)\n",
    "print(X2)"
   ]
  },
  {
   "cell_type": "code",
   "execution_count": 11,
   "metadata": {},
   "outputs": [
    {
     "name": "stdout",
     "output_type": "stream",
     "text": [
      "Enter your namesanthiya\n",
      "Enter your mark in sub1 :10\n",
      "Enter your mark in sub2 :20\n",
      "Enter your mark in sub3 :30\n",
      "Sorry santhiya your secured a total of  60 and your class is  FAIL\n"
     ]
    }
   ],
   "source": [
    "'''Question5. Write a program to accept name, marks for three subjects and find the total marks\n",
    "secured, average and also display the class obtained.\n",
    " Class I – above 80%\n",
    " Class II – 60% to 80%\n",
    " Pass class – 40% to 59% and\n",
    " Fail otherwise\n",
    "Print a message as “Congratulations << your name>>, you secured a total of <<total marks>>,\n",
    "and Your class is <<class>>”\n",
    "Test you code with atleast 2 test cases'''\n",
    "\n",
    "\n",
    "sname=input(\"Enter your name\")\n",
    "m1=int(input(\"Enter your mark in sub1 :\"))\n",
    "m2=int(input(\"Enter your mark in sub2 :\"))\n",
    "m3=int(input(\"Enter your mark in sub3 :\"))\n",
    "\n",
    "tol=m1+m2+m3\n",
    "avg=tol/3\n",
    "\n",
    "if(avg>80):\n",
    "    cls=\"CLASS I\"\n",
    "    print(\"congratulations \",sname,\"your secured a total of \",tol,\"and your class is \",cls)\n",
    "\n",
    "elif(avg>60 and avg<80):\n",
    "    cls= \"CLASS II\"\n",
    "    print(\"congratulations \",sname,\"your secured a total of \",tol,\"and your class is \",cls)\n",
    "    \n",
    "elif(avg>40 and avg<60):\n",
    "    cls=\" CLASS III\"\n",
    "    print(\"congratulations \",sname,\"your secured a total of \",tol,\"and your class is \",cls)\n",
    "\n",
    "else:\n",
    "    cls=\"FAIL\"\n",
    "    print(\"Sorry\",sname,\"your secured a total of \",tol,\"and your class is \",cls)\n",
    "\n",
    "    \n",
    "\n",
    "\n",
    "\n"
   ]
  },
  {
   "cell_type": "code",
   "execution_count": 21,
   "metadata": {},
   "outputs": [
    {
     "name": "stdout",
     "output_type": "stream",
     "text": [
      "Enter a number 122\n",
      "122 is positive\n",
      "122 is even number\n",
      "the given value is lower case case z\n"
     ]
    }
   ],
   "source": [
    "'''\n",
    "Question6. Read a number from keyboard. Print whether it is odd number, even number,\n",
    "positive number, negative number or zero. Also, print if its ASCII value represents a lower case\n",
    "or upper case letter or digit.\n",
    "Write 8 test cases to validate odd, even, positive, negative, zero, lower case, upper case and\n",
    "digit input types'''\n",
    "\n",
    "\n",
    "num=int(input(\"Enter a number \"))\n",
    " #check the number is zero\n",
    "if(num==0):\n",
    "        print(num,\"is zero\")\n",
    "else:\n",
    "        #check the num is positive or negative\n",
    "        \n",
    "    if(num>0):\n",
    "            print(num,\"is positive\")\n",
    "    else:\n",
    "            print(num,\"is Negative\")\n",
    "            \n",
    "        #check the num is odd or even\n",
    "            \n",
    "    if(num%2==0):\n",
    "            print(num,\"is even number\")\n",
    "    else:\n",
    "            print(num,\"is odd number\")\n",
    "    \n",
    "    #if it is ascll value represent\n",
    "    \n",
    "    if(num>=65 and num<=90):\n",
    "       print(\"the give value is upper case\",chr(num))\n",
    "\n",
    "    elif(num>=97 and num<=122):\n",
    "      print(\"the given value is lower case case\",chr(num))\n",
    "    else:\n",
    "        print(\"the given value is digit\")\n",
    "        \n"
   ]
  },
  {
   "cell_type": "code",
   "execution_count": null,
   "metadata": {},
   "outputs": [],
   "source": [
    "'''Question7. Version Control using Git and GitHub\n",
    "Read and apply version control features in your code:\n",
    "https://ocw.mit.edu/ans7870/6/6.005/s16/classes/05-version-control/'''\n"
   ]
  },
  {
   "cell_type": "code",
   "execution_count": 24,
   "metadata": {},
   "outputs": [
    {
     "name": "stdout",
     "output_type": "stream",
     "text": [
      "enter a number1\n",
      "enter a number2\n",
      "enter a number3\n",
      "enter a number3\n",
      "enter a number3\n",
      "enter a number4\n",
      "enter a number-9\n",
      "sum of these number is 16\n"
     ]
    }
   ],
   "source": [
    "'''Question8. Write a program that accepts numbers continuously as long as the number is\n",
    "positive and prints the sum of the numbers read (Use while loop). A sample user interaction\n",
    "will be:\n",
    "\n",
    "Enter a number: 2\n",
    "Enter a number: 1\n",
    "Enter a number: 4\n",
    "Enter a number: 6\n",
    "Enter a number: -10\n",
    "Sum = 13'''\n",
    "\n",
    "sum=0\n",
    "i=1\n",
    "while(i==1):\n",
    "    a=int(input(\"enter a number\"))\n",
    "    if(a>0):\n",
    "     sum +=a\n",
    "    else:\n",
    "        break\n",
    "print(\"sum of these number is\",sum)\n",
    "\n"
   ]
  },
  {
   "cell_type": "code",
   "execution_count": 1,
   "metadata": {},
   "outputs": [
    {
     "name": "stdout",
     "output_type": "stream",
     "text": [
      "Enter m value1\n",
      "Enter n value10\n",
      "Sum of even number is 30\n",
      "Do you want to quit (Type q)?q\n"
     ]
    }
   ],
   "source": [
    "'''Question9. Write a program to take the values of two integers m and n from the user.\n",
    "Calculate the sum of even number between m and n (including both m and n).\n",
    "Please note that value of m must be less than value of n. If m > n. then you must print a\n",
    "message “Value of m should be less than n” and ask for next input values.\n",
    "Print the values of m, n and sum. (Use while loop).\n",
    "\n",
    "The program should continue until user types ‘q’ to quit the program.\n",
    "Sample user interaction:\n",
    "Enter m: 1\n",
    "Enter n: 10\n",
    "Sum of even numbers: 20\n",
    "Do you want to quit (Type q)? :\n",
    "Enter m: 2\n",
    "Enter n: 10\n",
    "Sum of even numbers: 20\n",
    "Do you want to quit (Type q)? :\n",
    "Enter m: 20\n",
    "Enter n: 10\n",
    "Value of m should be less than n\n",
    "Do you want to quit (Type q)? : q'''\n",
    "\n",
    "sum=0\n",
    "c='c'\n",
    "while(c!=\"q\"):\n",
    "    m=int(input(\"Enter m value\"))\n",
    "    n=int(input(\"Enter n value\"))\n",
    "    if(m<n):\n",
    "         for i in range(n,m+1):\n",
    "            if(i%2==0):\n",
    "                sum+=i\n",
    "            \n",
    "    else:\n",
    "        print(\"Value of m should be less than n\")\n",
    "        continue\n",
    "    print(\"Sum of even number is\",sum)\n",
    "    c=input(\"Do you want to quit (Type q)?\")   "
   ]
  },
  {
   "cell_type": "code",
   "execution_count": 2,
   "metadata": {},
   "outputs": [
    {
     "name": "stdout",
     "output_type": "stream",
     "text": [
      "enter a number6\n",
      "6 * 1 = 6\n",
      "6 * 2 = 12\n",
      "6 * 3 = 18\n",
      "6 * 4 = 24\n",
      "6 * 5 = 30\n",
      "6 * 6 = 36\n",
      "6 * 7 = 42\n",
      "6 * 8 = 48\n",
      "6 * 9 = 54\n",
      "6 * 10 = 60\n"
     ]
    }
   ],
   "source": [
    "'''Question10. Write a program to accept n and display its multiplication table. Value of n must\n",
    "be provided by the user. (Example: n * 1, n * 2,....,n*10) (Use for loop)'''\n",
    "\n",
    "\n",
    "n=int(input(\"enter a number\"))\n",
    "for i in range(1,11):\n",
    "    print(n,\"*\",i,\"=\",n*i)\n"
   ]
  },
  {
   "cell_type": "code",
   "execution_count": 5,
   "metadata": {},
   "outputs": [
    {
     "name": "stdout",
     "output_type": "stream",
     "text": [
      "Enter a number-15\n",
      "The sum of its digits 4\n"
     ]
    }
   ],
   "source": [
    "'''Question11. Write a program that receives an integer and prints the sum of its digits. For\n",
    "example, an input 125 will print output 1+2+5=8.\n",
    "\n",
    " Try out with the following test cases\n",
    " 125\n",
    " 12\n",
    " 2\n",
    " -15'''\n",
    "\n",
    "d=input(\"Enter a number\")\n",
    "sum=0\n",
    "list1=list(d)\n",
    "if(list1[0]=='-'):\n",
    "    b=int(list1[1])\n",
    "    list1[0]=0\n",
    "    list1[1]=-b\n",
    "    for i in list1:\n",
    "        c=int(i)\n",
    "        sum+=c\n",
    "else:\n",
    "    for i in list1:\n",
    "        c=int(i)\n",
    "        sum+=c\n",
    "print(\"The sum of its digits\",sum)\n",
    "    \n",
    "\n"
   ]
  },
  {
   "cell_type": "code",
   "execution_count": 10,
   "metadata": {},
   "outputs": [
    {
     "name": "stdout",
     "output_type": "stream",
     "text": [
      "Enter a number or Do you want to quit type(done)a\n",
      "Error: Enter a vaild inputs\n",
      "Enter a number or Do you want to quit type(done)1\n",
      "Enter a number or Do you want to quit type(done)2\n",
      "Enter a number or Do you want to quit type(done)3\n",
      "Enter a number or Do you want to quit type(done)3\n",
      "Enter a number or Do you want to quit type(done)4\n",
      "Enter a number or Do you want to quit type(done)56\n",
      "Enter a number or Do you want to quit type(done)DONE\n",
      "Total 69\n",
      "count 6\n",
      "average 11.5\n"
     ]
    }
   ],
   "source": [
    "'''Question12. Develop an application in Python that repeatedly reads numbers until the user\n",
    "enters done. Once done is entered, print out the total, count, and average of the numbers. If\n",
    "the user enters \n",
    "anything other than a number, detect their mistake using try and except and\n",
    "print an error message and skip to the next number.'''\n",
    "c='hello'\n",
    "sum=0\n",
    "co=0\n",
    "while True:\n",
    "        c=input(\"Enter a number or Do you want to quit type(done)\")\n",
    "        if(c.lower()!='done'):\n",
    "            try:\n",
    "                num=int(c)\n",
    "                sum+=num\n",
    "                co+=1\n",
    "                \n",
    "            except:\n",
    "                print(\"Error: Enter a vaild inputs\")\n",
    "                continue\n",
    "        else:\n",
    "            break\n",
    "print(\"Total\",sum)\n",
    "print(\"count\",co) \n",
    "print(\"average\",sum/co)\n",
    "    \n",
    "    \n"
   ]
  },
  {
   "cell_type": "code",
   "execution_count": null,
   "metadata": {},
   "outputs": [],
   "source": []
  },
  {
   "cell_type": "code",
   "execution_count": null,
   "metadata": {},
   "outputs": [],
   "source": [
    "\n"
   ]
  }
 ],
 "metadata": {
  "kernelspec": {
   "display_name": "Python 3 (ipykernel)",
   "language": "python",
   "name": "python3"
  },
  "language_info": {
   "codemirror_mode": {
    "name": "ipython",
    "version": 3
   },
   "file_extension": ".py",
   "mimetype": "text/x-python",
   "name": "python",
   "nbconvert_exporter": "python",
   "pygments_lexer": "ipython3",
   "version": "3.11.3"
  }
 },
 "nbformat": 4,
 "nbformat_minor": 2
}
