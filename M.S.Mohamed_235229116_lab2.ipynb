{
 "cells": [
  {
   "cell_type": "markdown",
   "id": "a5fe6e03",
   "metadata": {},
   "source": [
    "# Roll number : 235229116\n",
    "## Name : Mohamed Zaheerudeen\n",
    "### LAB-1"
   ]
  },
  {
   "cell_type": "markdown",
   "id": "2d34dd2d",
   "metadata": {},
   "source": [
    "Programming and Data Structures with Python Lab\n",
    "Lab2. Python Functions, Modules and String Processing"
   ]
  },
  {
   "cell_type": "markdown",
   "id": "acb86c63",
   "metadata": {},
   "source": [
    "Question 1. Create a function prime() that receives an integer and returns whether n is\n",
    "prime or not. Print all prime numbers from 1 to 100 by calling prime() function. For\n",
    "example,\n",
    "prime(1)\n",
    "prime(2)\n",
    ".......\n",
    "prime(100)"
   ]
  },
  {
   "cell_type": "code",
   "execution_count": 1,
   "id": "da7dfe52",
   "metadata": {},
   "outputs": [
    {
     "name": "stdout",
     "output_type": "stream",
     "text": [
      "Enter a number3\n",
      "3 is a prime number\n",
      "0 isn't in prime number and not prime number \n",
      "1 isn't in prime number and not prime number \n",
      "prime( 3 )\n",
      "prime( 5 )\n",
      "prime( 7 )\n",
      "prime( 11 )\n",
      "prime( 13 )\n",
      "prime( 17 )\n",
      "prime( 19 )\n",
      "prime( 23 )\n",
      "prime( 25 )\n",
      "prime( 29 )\n",
      "prime( 31 )\n",
      "prime( 35 )\n",
      "prime( 37 )\n",
      "prime( 41 )\n",
      "prime( 43 )\n",
      "prime( 47 )\n",
      "prime( 49 )\n",
      "prime( 53 )\n",
      "prime( 55 )\n",
      "prime( 59 )\n",
      "prime( 61 )\n",
      "prime( 65 )\n",
      "prime( 67 )\n",
      "prime( 71 )\n",
      "prime( 73 )\n",
      "prime( 77 )\n",
      "prime( 79 )\n",
      "prime( 83 )\n",
      "prime( 85 )\n",
      "prime( 89 )\n",
      "prime( 91 )\n",
      "prime( 95 )\n",
      "prime( 97 )\n"
     ]
    }
   ],
   "source": [
    "def prime(a):\n",
    "    if(a==1 or a==0):\n",
    "        print(a,\"isn't in prime number and not prime number \")\n",
    "        return 2\n",
    "    elif(a%2==0):# logically wrong\n",
    "        return 0\n",
    "    elif(a==3 or a==2):\n",
    "        return 1\n",
    "    elif(a%2==1):\n",
    "        for i in range(3,a,2):\n",
    "            if(a%i==0):\n",
    "                return 0\n",
    "                break\n",
    "            else:\n",
    "                return 1\n",
    "    else:\n",
    "        print(\"enter a integer (-)\")\n",
    "n=int(input(\"Enter a number\"))\n",
    "b=prime(n)\n",
    "if(b==0 ):\n",
    "    print(n,\" is not a prime number \")\n",
    "if(b==1):\n",
    "    print(n,\"is a prime number\")\n",
    "\n",
    "for i in range(101):\n",
    "    prime_num=prime(i)\n",
    "    if(prime_num ==1):\n",
    "        print(\"prime(\",i,\")\")\n",
    "        \n",
    "    "
   ]
  },
  {
   "cell_type": "markdown",
   "id": "d4105567",
   "metadata": {},
   "source": [
    "Question 2. Develop a simple arithmetic calculator for 4 operations. The program should\n",
    "continue calculation until user types ‘q’ to quit. A sample user interaction can be:\n",
    " Enter operator (q to quit): +\n",
    " Enter value 1: 10\n",
    " Enter value 2: 20\n",
    " Result = 30\n",
    "Create 4 functions add(), subtract(), multiply() and divide() that receives two values and\n",
    "returns the result of the operation.\n",
    "Now, perform the following operations by calling the corresponding functions. Validate your\n",
    "outputs.\n",
    "1. 10+20\n",
    "2. 20-5\n",
    "3. 8*5\n",
    "4. 50/3"
   ]
  },
  {
   "cell_type": "code",
   "execution_count": 1,
   "id": "b2b236c1",
   "metadata": {},
   "outputs": [
    {
     "name": "stdout",
     "output_type": "stream",
     "text": [
      "Enter operator (q to quit):q\n"
     ]
    }
   ],
   "source": [
    "def add(a,b):\n",
    "    return a+b\n",
    "def subract(a,b):\n",
    "    return a-b\n",
    "def multiply(a,b):\n",
    "    return a*b\n",
    "def divide(a,b):\n",
    "    return a/b\n",
    "\n",
    "while True:\n",
    "    op=input(\"Enter operator (q to quit):\")\n",
    "    if(op=='q'):\n",
    "        break\n",
    "    v1=int(input(\"Enter a value 1: \"))\n",
    "    v2=int(input(\"Enter a value 2: \"))\n",
    "   \n",
    "    \n",
    "    if(op=='+'):\n",
    "        print(v1,op,v2,\"=\",add(v1,v2))\n",
    "    elif(op=='-'):\n",
    "         print(v1,\"-\",v2,\"=\",subract(v1,v2))\n",
    "    elif(op=='*'):\n",
    "        print(v1,op,v2,\"=\",multiply(v1,v2))\n",
    "    elif(op=='/'):\n",
    "        print(v1,op,v2,\"=\",divide(v1,v2))\n",
    "    else:\n",
    "        print(\"enter a vaild operator(+,-,*,/)\")\n",
    "\n",
    "              "
   ]
  },
  {
   "cell_type": "code",
   "execution_count": null,
   "id": "fa296183",
   "metadata": {},
   "outputs": [],
   "source": []
  }
 ],
 "metadata": {
  "kernelspec": {
   "display_name": "Python 3 (ipykernel)",
   "language": "python",
   "name": "python3"
  },
  "language_info": {
   "codemirror_mode": {
    "name": "ipython",
    "version": 3
   },
   "file_extension": ".py",
   "mimetype": "text/x-python",
   "name": "python",
   "nbconvert_exporter": "python",
   "pygments_lexer": "ipython3",
   "version": "3.11.3"
  }
 },
 "nbformat": 4,
 "nbformat_minor": 5
}
