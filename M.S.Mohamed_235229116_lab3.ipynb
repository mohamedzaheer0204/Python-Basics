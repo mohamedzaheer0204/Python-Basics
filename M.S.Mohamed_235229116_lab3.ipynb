{
 "cells": [
  {
   "cell_type": "markdown",
   "id": "a19b130e",
   "metadata": {},
   "source": [
    "# Roll number : 235229116\n",
    "## Name : Mohamed Zaheerudeen\n",
    "### LAB-3"
   ]
  },
  {
   "cell_type": "markdown",
   "id": "3cfe034d",
   "metadata": {},
   "source": [
    "Lab3.\n",
    "List Processing in Python\n",
    "Question1. Write a function find_average(student) that takes student tuple as input and\n",
    "print student rollno, name, marks and average marks as output.\n",
    "Test Cases:\n",
    "1. stud1 = (1, “rex”, (60, 85, 70))\n",
    "find_average(stud1)\n",
    "Modify the above function find_average(student) so that it processes a tuple of tuples.\n",
    "2. stud2 = (2, “rex”, (80, 75, 90))\n",
    "find_average(stud2)\n"
   ]
  },
  {
   "cell_type": "code",
   "execution_count": 50,
   "id": "c769484b",
   "metadata": {},
   "outputs": [
    {
     "name": "stdout",
     "output_type": "stream",
     "text": [
      "Enter a rollno3\n",
      "Enter student namesanthiya\n",
      "Enter a mark1 89\n",
      "Enter a mark2 8\n",
      "Enter a mark3 77\n",
      "Roll no  3\n",
      "name  santhiya\n",
      "m1 89 \n",
      "m2 8 \n",
      "m3 77\n",
      "avarage 58.0\n"
     ]
    }
   ],
   "source": [
    "def find_average(student):\n",
    "    avg=student[2]+student[3]+student[4]\n",
    "    return avg/3\n",
    "tu=()\n",
    "roll=int(input(\"Enter a rollno\"))\n",
    "name=input(\"Enter student name\")\n",
    "m1=int(input(\"Enter a mark1 \"))\n",
    "m2=int(input(\"Enter a mark2 \"))\n",
    "m3=int(input(\"Enter a mark3 \"))\n",
    "tu=tu+(roll,)+(name,)+(m1,)+(m2,)+(m3,) \n",
    "avg=find_average(tu)\n",
    "print(\"Roll no \",tu[0])\n",
    "print(\"name \",tu[1])\n",
    "print(\"m1\",tu[2],'\\nm2',tu[3],\"\\nm3\",tu[4])\n",
    "print(\"avarage\",avg)\n"
   ]
  },
  {
   "cell_type": "markdown",
   "id": "17a2a460",
   "metadata": {},
   "source": [
    "Question2.\n",
    "Write a weight management program that prompts the user to enter in 7 days\n",
    "of their body weight values as float numbers. Store them in list.\n",
    "Then print first day weight, last day weight, 4th day weight, highest weight, lowest weight\n",
    "and average weight.\n",
    "Finally, print if average weight < lowest weight, then print “Your weight management is\n",
    "excellent”. Otherwise print “Your weight management is not good. Please take care of your\n",
    "diet”."
   ]
  },
  {
   "cell_type": "code",
   "execution_count": 51,
   "id": "5b85847c",
   "metadata": {},
   "outputs": [
    {
     "name": "stdout",
     "output_type": "stream",
     "text": [
      "1 day wight\n",
      "51\n",
      "2 day wight\n",
      "52\n",
      "3 day wight\n",
      "51\n",
      "4 day wight\n",
      "50\n",
      "5 day wight\n",
      "49\n",
      "6 day wight\n",
      "50.5\n",
      "7 day wight\n",
      "50.8\n",
      "first day weight 52.0\n",
      "last day weight 50.8\n",
      "fourth day weight 50.0\n",
      " heigest weight 52.0\n",
      " lowest  weight 49.0\n",
      "avarage weight 50.614285714285714\n",
      "Your weight management is excellent\n"
     ]
    }
   ],
   "source": [
    "lst=[]\n",
    "\n",
    "for i in range(7):\n",
    "    print(i+1,\"day wight\")\n",
    "    lst.append(float(input()))\n",
    "\n",
    "print(\"first day weight\",lst[1])\n",
    "print(\"last day weight\",lst[-1])\n",
    "print(\"fourth day weight\",lst[3])\n",
    "print(\" heigest weight\",max(lst))\n",
    "print(\" lowest  weight\",min(lst))\n",
    "avg=sum(lst)/len(lst)\n",
    "print(\"avarage weight\",avg)\n",
    "if(avg >min(lst)):\n",
    "    print(\"Your weight management is excellent\")\n",
    "else:\n",
    "    print(\"Your weight management is not good. Please take care of your diet\")"
   ]
  },
  {
   "cell_type": "markdown",
   "id": "24596c7c",
   "metadata": {},
   "source": [
    "Question3. Write a function lastN(lst, n) that takes a list of integers and n and returns n\n",
    "largest numbers.\n",
    "How many numbers you want to enter?: 6\n",
    "Enter a number: 12\n",
    "Enter a number: 32\n",
    "Enter a number: 10\n",
    "Enter a number: 9\n",
    "Enter a number: 52\n",
    "Enter a number: 45\n",
    "How many largest numbers you want to find?: 3\n",
    "Largest numbers are: 52, 45, 32"
   ]
  },
  {
   "cell_type": "code",
   "execution_count": 52,
   "id": "c242a462",
   "metadata": {},
   "outputs": [
    {
     "name": "stdout",
     "output_type": "stream",
     "text": [
      " How many numbers you want to enter 6\n",
      "enter a integer\n",
      "5\n",
      "4\n",
      "5\n",
      "3\n",
      "7\n",
      "8\n",
      "[5, 4, 5, 3, 7, 8]\n",
      "How many largest numbers you want to find?:3\n",
      "Largest number are\n",
      "[8, 7, 5]\n"
     ]
    }
   ],
   "source": [
    "def last(lst,n):\n",
    "    ma=[]\n",
    "    l=lst\n",
    "    for i in range(n):\n",
    "        temp=max(l)\n",
    "        ma.append(temp)\n",
    "        l.remove(temp)   \n",
    "    return ma\n",
    "\n",
    "num=int(input(\" How many numbers you want to enter \"))\n",
    "ls=[]\n",
    "print(\"enter a integer\")\n",
    "for i in range(num):\n",
    "    ls.append(int(input()))\n",
    "print(ls)    \n",
    "n=int(input(\"How many largest numbers you want to find?:\"))\n",
    "    \n",
    "print(\"Largest number are\")\n",
    "\n",
    "LI=last(ls,n)\n",
    "print(LI)"
   ]
  },
  {
   "cell_type": "markdown",
   "id": "3bc24847",
   "metadata": {},
   "source": [
    "Question4. Given a list of strings, return a list with the strings in sorted order, except group\n",
    "all the strings that begin with 'x' first. Hint: this can be done by making 2 lists and sorting\n",
    "each of them before combining them.\n",
    "Test Cases:\n",
    "1. Input: ['mix', 'xyz', 'apple', 'xanadu', 'aardvark']\n",
    "Output: ['xanadu', 'xyz', 'aardvark', 'apple', 'mix']\n",
    "2. Input: *‘ccc’,’bbb’,’aaa’,’xcc’,’xaa’+\n",
    "Output: *‘xaa’,’xcc’,’aaa’,’bbb’,’ccc’+\n",
    "3. Input: *‘bbb’,’ccc’,’axx’,’xzz’,’xaa’+\n",
    "Output: *‘xaa’,’xzz’,’axx’,’bbb’,’ccc’+"
   ]
  },
  {
   "cell_type": "code",
   "execution_count": 9,
   "id": "429502d2",
   "metadata": {},
   "outputs": [
    {
     "name": "stdout",
     "output_type": "stream",
     "text": [
      "input ['mix', 'xyz', 'apple', 'xanadu', 'aardvark'] \n",
      "output xanadu,xyzaardvark,apple,mix\n",
      "input ['aaa', 'xcc', 'xaa'] \n",
      "output xaa,xccaaa\n",
      "input ['bbb', 'ccc', 'axx', 'xzz', 'xaa'] \n",
      "output xaa,xzzaxx,bbb,ccc\n"
     ]
    }
   ],
   "source": [
    "str1=['mix', 'xyz', 'apple', 'xanadu', 'aardvark']\n",
    "str2=['aaa','xcc','xaa']\n",
    "str3=['bbb','ccc','axx','xzz','xaa']\n",
    "def sortx(lst):\n",
    "    list1=[]\n",
    "    xlst=[]\n",
    "    for i in lst:\n",
    "        if(i[0]=='x' or i[0]=='X'):\n",
    "            xlst.append(i)\n",
    "            xlst.sort()\n",
    "            sx=\",\".join(xlst)\n",
    "        else:\n",
    "            list1.append(i)\n",
    "            list1.sort()\n",
    "            sl=\",\".join(list1)\n",
    "            \n",
    "    return sx+sl\n",
    "    \n",
    "res1=sortx(str1)\n",
    "res2=sortx(str2)\n",
    "res3=sortx(str3)\n",
    "print(\"input\",str1,\"\\noutput\",res1)\n",
    "print(\"input\",str2,\"\\noutput\",res2)\n",
    "print(\"input\",str3,\"\\noutput\",res3)\n",
    "\n"
   ]
  },
  {
   "cell_type": "markdown",
   "id": "8203044c",
   "metadata": {},
   "source": [
    "Question5. Develop a function sort_last(). Given a list of non-empty tuples, return a list\n",
    "sorted in increasing order by the last element in each tuple. Hint: use a custom key=\n",
    "function to extract the last element form each tuple.\n",
    "Test Cases:\n",
    "1. Input: [(1, 7), (1, 3), (3, 4, 5), (2, 2)]\n",
    "Output: [(2, 2), (1, 3), (3, 4, 5), (1, 7)]\n",
    "2. Input: [(1,3),(3,2),(2,1)]\n",
    "Output: [(2,1),(3,2),(1,3)]\n",
    "3. Input: [(2,3),(1,2),(3,1)]\n",
    "Output: [(3,1),(1,2),(2,3)]"
   ]
  },
  {
   "cell_type": "code",
   "execution_count": 15,
   "id": "ed33a770",
   "metadata": {},
   "outputs": [
    {
     "name": "stdout",
     "output_type": "stream",
     "text": [
      "[(2, 2), (1, 3), (3, 4, 5), (1, 7)] \n",
      " [(2, 1), (3, 2), (1, 3)] \n",
      " [(3, 1), (1, 2), (2, 3)]\n"
     ]
    }
   ],
   "source": [
    "def sor(lst):\n",
    "    def rev(lstele):\n",
    "        return lstele[-1]\n",
    "    s=sorted(lst,key=rev)\n",
    "    return s\n",
    "    \n",
    "\n",
    "i=[(1,7),(1,3),(3,4,5),(2,2)]\n",
    "j=[(1,3),(3,2),(2,1)]\n",
    "k=[(2,3),(1,2),(3,1)]\n",
    "print(sor(i),\"\\n\",sor(j),\"\\n\",sor(k))\n",
    "        "
   ]
  },
  {
   "cell_type": "markdown",
   "id": "a79c5f3d",
   "metadata": {},
   "source": [
    "Question6. Other String Functions\n",
    "a) Define a function first() that receives a tuple and returns its first element\n",
    "b) Define a function sort_first() that receives a list of tuples and returns the sorted\n",
    "c) Print lists in sorted order\n",
    "d) Define a function middle() that receives a a tuple and returns its middle element\n",
    "e) Define a functino sort_middle() that receives a list of tuples and returns it sorted\n",
    "using the key middle\n",
    "f) Print the list [(1,2,3), (2,1,4), (10,7,15), (20,4,50), (30, 6, 40)] in sorted order. Output\n",
    "should be: [(2, 1, 4), (1, 2, 3), (20, 4, 50), (30, 6, 40), (10, 7, 15)]"
   ]
  },
  {
   "cell_type": "code",
   "execution_count": 24,
   "id": "8357cfe7",
   "metadata": {},
   "outputs": [
    {
     "name": "stdout",
     "output_type": "stream",
     "text": [
      "sorted by tuple first position \n",
      " [(1, 2, 3), (2, 1, 4), (10, 7, 15), (20, 4, 50), (30, 6, 40)]\n",
      "sorted by tuple middle position \n",
      " [(2, 1, 4), (1, 2, 3), (20, 4, 50), (30, 6, 40), (10, 7, 15)]\n"
     ]
    }
   ],
   "source": [
    "def first(ele):\n",
    "        return ele[0]\n",
    "def sort_first(lst):\n",
    "    s=sorted(lst,key=first)\n",
    "    return s\n",
    "def middle(ele):\n",
    "        mid=int((len(ele)/2))\n",
    "        return ele[mid]\n",
    "def sort_middle(lst):\n",
    "    s=sorted(lst,key=middle)\n",
    "    return s\n",
    "lst=[(1,2,3),(2,1,4),(10,7,15),(20,4,50),(30, 6, 40)]\n",
    "\n",
    "print(\"sorted by tuple first position \\n\",sort_first(lst))\n",
    "\n",
    "print(\"sorted by tuple middle position \\n\",sort_middle(lst))"
   ]
  },
  {
   "cell_type": "markdown",
   "id": "33bb1ea7",
   "metadata": {},
   "source": [
    "Question7. Develop a function remove_adjacent(). Given a list of numbers, return a list\n",
    "where all adjacent same elements have been reduced to a single element. You may create a\n",
    "new list or modify the passed in list.\n",
    "Test Cases:\n",
    "1. Input: [1, 2, 2, 3] and output: [1, 2, 3]\n",
    "2. Input: [2, 2, 3, 3, 3] and output: [2, 3]\n",
    "3. Input: [ ]. Output: [ ].\n",
    "4. Input: [2,5,5,6,6,7]\n",
    "Output: [2,5,6,7]\n",
    "5. Input: [6,7,7,8,9,9]\n",
    "Output: [6,7,8,9]"
   ]
  },
  {
   "cell_type": "code",
   "execution_count": 46,
   "id": "98bcebd5",
   "metadata": {},
   "outputs": [
    {
     "name": "stdout",
     "output_type": "stream",
     "text": [
      "[1, 2, 3]\n",
      "[2, 3]\n",
      "[]\n",
      "[2, 5, 6, 7]\n",
      "[6, 7, 8, 9]\n"
     ]
    }
   ],
   "source": [
    "def remove_adjacent(nums):\n",
    "    result = []\n",
    "    for num in nums:\n",
    "        if len(result) == 0 or num != result[-1]:\n",
    "            result.append(num)\n",
    "    return result\n",
    "\n",
    "\n",
    "a=[1, 2, 2, 3]\n",
    "b=[2, 2, 3, 3, 3] \n",
    "c=[ ]\n",
    "d=[2,5,5,6,6,7]\n",
    "e=[6,7,7,8,9,9]\n",
    "print(remove_adjacent(a))\n",
    "print(remove_adjacent(b))\n",
    "print(remove_adjacent(c))\n",
    "print(remove_adjacent(d))\n",
    "print(remove_adjacent(e))\n",
    "\n",
    "       "
   ]
  },
  {
   "cell_type": "markdown",
   "id": "5d842d52",
   "metadata": {},
   "source": [
    "Question8. Write a function verbing(). Given a string, if its length is at least 3, add 'ing' to its end. Unless it already ends in 'ing', in which case add 'ly' instead. If the string length is less\n",
    "than 3, leave it unchanged. Return the resulting string.\n",
    "So ‘hail’ yields: hailing; \n",
    "‘swimming’\n",
    "yields: swimmingly; \n",
    "‘do’ yields: do.\n"
   ]
  },
  {
   "cell_type": "code",
   "execution_count": 49,
   "id": "02ee4d24",
   "metadata": {},
   "outputs": [
    {
     "name": "stdout",
     "output_type": "stream",
     "text": [
      "hail   hailing\n",
      "swimming   swimmingly\n",
      "do   do\n"
     ]
    }
   ],
   "source": [
    "def verbing(s):\n",
    "    if(len(s)>3):\n",
    "        if(s.endswith(\"ing\")):\n",
    "            return s+'ly'\n",
    "        else:\n",
    "            return s+'ing'\n",
    "    else:\n",
    "        return s\n",
    "print(\"hail  \",verbing('hail'))\n",
    "print(\"swimming  \",verbing('swimming'))\n",
    "print(\"do  \",verbing('do'))"
   ]
  },
  {
   "cell_type": "markdown",
   "id": "7d904722",
   "metadata": {},
   "source": [
    "Question9. Develop a function not_bad(). Given a string, find the first appearance of the\n",
    "substring 'not' and 'bad'. If the 'bad' follows the 'not', replace the whole 'not'...'bad'\n",
    "substring with 'good'.\n",
    "Return the resulting string. So 'This dinner is not that bad!' yields: This dinner is good!"
   ]
  },
  {
   "cell_type": "code",
   "execution_count": 53,
   "id": "a4e4e22c",
   "metadata": {},
   "outputs": [
    {
     "name": "stdout",
     "output_type": "stream",
     "text": [
      "This dinner is good!\n"
     ]
    }
   ],
   "source": [
    "\n",
    "def not_bad(s):\n",
    "    n = s.find('not')\n",
    "    b = s.find('bad')\n",
    "    if n != -1 and b != -1 and b > n:\n",
    "        s = s[:n] + 'good' + s[b+3:]\n",
    "    return s\n",
    "print(not_bad('This dinner is not that bad!')) \n",
    "\n"
   ]
  },
  {
   "cell_type": "code",
   "execution_count": null,
   "id": "81ee58ca",
   "metadata": {},
   "outputs": [],
   "source": []
  }
 ],
 "metadata": {
  "kernelspec": {
   "display_name": "Python 3 (ipykernel)",
   "language": "python",
   "name": "python3"
  },
  "language_info": {
   "codemirror_mode": {
    "name": "ipython",
    "version": 3
   },
   "file_extension": ".py",
   "mimetype": "text/x-python",
   "name": "python",
   "nbconvert_exporter": "python",
   "pygments_lexer": "ipython3",
   "version": "3.11.3"
  }
 },
 "nbformat": 4,
 "nbformat_minor": 5
}
