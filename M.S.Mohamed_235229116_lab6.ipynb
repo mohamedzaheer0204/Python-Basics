{
 "cells": [
  {
   "cell_type": "markdown",
   "metadata": {},
   "source": [
    "# Roll number : 235229116\n",
    "## Name : Mohamed Zaheerudeen\n",
    "### LAB-1"
   ]
  },
  {
   "cell_type": "markdown",
   "metadata": {},
   "source": [
    "Programming and Data Structures with Python Lab6.\n",
    "Implementation of Map, Filter and Reduce Functions\n",
    "Reference: https://ocw.mit.edu/ans7870/6/6.005/s16/classes/25-map-filter-reduce/\n",
    "\n",
    "\n",
    "Question1. Write a program to implement MAP function. Find the square root of a list of\n",
    "numbers [1, 2, 4, 6] using map and sqrt functions. Check the answer against your user\n",
    "defined function mymap()."
   ]
  },
  {
   "cell_type": "code",
   "execution_count": 4,
   "metadata": {},
   "outputs": [
    {
     "name": "stdout",
     "output_type": "stream",
     "text": [
      "[1, 2, 4, 6]\n",
      "[1, 4, 16, 36]\n"
     ]
    }
   ],
   "source": [
    "numbers=[1, 2, 4, 6] \n",
    "def square(n):\n",
    "    return n*n\n",
    "s=list(map(square,numbers))\n",
    "print(numbers)\n",
    "print(s)"
   ]
  },
  {
   "cell_type": "markdown",
   "metadata": {},
   "source": [
    "Question2. Write a program to implement FILTER function. Filter all upper case letters in a\n",
    "list ['x', 'Y', '2', '3', 'Z', ‘b’] using filter function. Check the answer against your user define\n",
    "function myfilter()."
   ]
  },
  {
   "cell_type": "code",
   "execution_count": 6,
   "metadata": {},
   "outputs": [
    {
     "name": "stdout",
     "output_type": "stream",
     "text": [
      "uppercase letters in the is ['Y', 'Z']\n"
     ]
    }
   ],
   "source": [
    "def myfilter(lst):\n",
    "    def upp(ele):\n",
    "        return ele.isupper()\n",
    "    \n",
    "    up=list(filter(upp,lst))\n",
    "    print(\"uppercase letters in the is\",up)\n",
    "            \n",
    "            \n",
    "list1=['x', 'Y', '2', '3', 'Z','b'] \n",
    "myfilter(list1)"
   ]
  },
  {
   "cell_type": "markdown",
   "metadata": {},
   "source": [
    "Question3. \n",
    "Write a program to create a lambda function that takes two characters and\n",
    "concatenates them. Now, apply this function inside REDUCE function that will reduce the list\n",
    "of characters [‘a’, ‘b’, ‘c’, d’] with the intial value ‘x’."
   ]
  },
  {
   "cell_type": "code",
   "execution_count": 1,
   "metadata": {},
   "outputs": [
    {
     "name": "stdout",
     "output_type": "stream",
     "text": [
      "xabcd\n"
     ]
    }
   ],
   "source": [
    "import functools\n",
    "lis=['a','b','c','d']\n",
    "x='x'\n",
    "print(functools.reduce(lambda a, b: a+b, lis,x))"
   ]
  },
  {
   "cell_type": "markdown",
   "metadata": {},
   "source": [
    "Question4. Imagine an accounting routine used in a book shop. It works on a list with\n",
    "sublists, which look like this:\n",
    "Order No Book Title and Author Quantity Price per Item\n",
    "\n",
    "34587 Learning Python,       Mark  Lutz  4 40.95\n",
    "98762 Programming Python,    Mark  Lutz  5 56.80\n",
    "77226 Head First Python,     Paul  Barry 3 32.95\n",
    "88112 Einführung in Python3, Bernd Klein 3 24.99\n",
    "\n",
    "Write a Python program, which returns a list with 2-tuples. Each tuple consists of an order\n",
    "number and the product of the price per items and the quantity. The product should be\n",
    "decreased by RS 10 if the value of the order is smaller than RS 100.00. Write a Python\n",
    "program using lambda and map functions.  \n"
   ]
  },
  {
   "cell_type": "code",
   "execution_count": 5,
   "metadata": {},
   "outputs": [
    {
     "name": "stdout",
     "output_type": "stream",
     "text": [
      "[34587, (4, 40.95)]\n",
      "[98762, (5, 56.8)]\n",
      "[77226, (3, 22.950000000000003)]\n",
      "[88112, (3, 14.989999999999998)]\n"
     ]
    }
   ],
   "source": [
    "order=[\n",
    "[34587,\"Learning Python\",\"Mark Lutz\",4, 40.95],\n",
    "[98762,\"Programming Python\",\"MarkvLutz\",5,56.80],\n",
    "[77226,\"Head First Python\",\"Paul Barry\",3,32.95],\n",
    "[88112,\"Einführung in Python3\",\"Bernd Klein\",3,24.99]\n",
    "]\n",
    "l=[]\n",
    "for i in order:\n",
    "    if (i[3]*i[4])<100:\n",
    "        l.append([(i[0]),(i[3],i[4]-10)])\n",
    "    else:\n",
    "        l.append([(i[0]),(i[3],i[4])])\n",
    "for i in l:\n",
    "    print(i)\n"
   ]
  },
  {
   "cell_type": "code",
   "execution_count": null,
   "metadata": {},
   "outputs": [],
   "source": []
  }
 ],
 "metadata": {
  "kernelspec": {
   "display_name": "Python 3 (ipykernel)",
   "language": "python",
   "name": "python3"
  },
  "language_info": {
   "codemirror_mode": {
    "name": "ipython",
    "version": 3
   },
   "file_extension": ".py",
   "mimetype": "text/x-python",
   "name": "python",
   "nbconvert_exporter": "python",
   "pygments_lexer": "ipython3",
   "version": "3.11.3"
  }
 },
 "nbformat": 4,
 "nbformat_minor": 2
}
