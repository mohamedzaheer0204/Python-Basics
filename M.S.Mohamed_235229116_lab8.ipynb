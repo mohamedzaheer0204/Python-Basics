{
 "cells": [
  {
   "cell_type": "markdown",
   "id": "0b755048",
   "metadata": {},
   "source": [
    "# Roll number : 235229116\n",
    "## Name : Mohamed Zaheerudeen\n",
    "### LAB-1"
   ]
  },
  {
   "cell_type": "markdown",
   "id": "90940de5",
   "metadata": {},
   "source": [
    "Labsheet:8 Managing Contacts Using Files and Sorting Algorithm"
   ]
  },
  {
   "cell_type": "markdown",
   "id": "8ab76085",
   "metadata": {},
   "source": [
    "Step 1:Define a class called Contact to represent a single contact.Include attribute such as name and phone to store the contact's details. Implement the _str_ method to provide a string representation of the contact.\n",
    "Step 2:Create a function called load_contacts that takes a file name as input. Inside the function, open the file in read mode and iterate over each line. Split each line into name and phone using the comma separator, create a contact object, and append it to a list of contacts.finally,return the list of contacts.\n",
    "Step 3:Create a function called save_contacts that takes a file name and a list of contacts as input.Inside the function, open the file in write mode and iterate over the contacts.Write each contacts name and phone to the file in the format\"Name,Phone\".\n",
    "Step 4:Create a function called display_contacts that takes a list of contacts as input.iterate over the contacts and print each contact using the _str_ method.\n",
    "Step 5:Implement the bubble sort algorithm by creating a function called bubble_sort that takes a list of contacts as input.Iterate over the list and compare each contacts name with the next contacts name. If the names are out of order,swap the contacts.Repeat this process until the list is sorted in ascending order.\n",
    "Step 6:Implement the insertion sort algorithm by creating a function called insertion_sort that takes a list of contacts as input. Iterste over the list starting from the second contact.Compare each contacts name with the contacts before it ans shift them to the right until the correct position is found. Insert the contact into the correct position in the sorted part of the list.\n",
    "Step 7:Implement the selection sort algorithm by creating a function called selection_sort that takes a list of contactsas input. Iterate over the list and find the minimum element in the remaining unsorted part of the list.swap the minimum element with the current element to place it in the correct position.\n",
    "Step 8:Load contacts from a file by calling the load_contacts function and storing the returned list of contacts.\n",
    "Step 9:Display the unsorted contacts by calling the display_contacts function.\n",
    "Step 10:Sort the contacts using the bubble sort algorithm by calling the bubble_sort function.\n",
    "Step 11:Display the contacts after the bubble sort by calling the display_contacts function.\n",
    "Step 12:Sort the contacts using the insertion sort algorithm by calling the insertion_sort function.\n",
    "Step 13:Display the contacts after the insertion sort by calling the display_contatcts function.\n",
    "Step 14:Sort the contacts using the selection sort algorithm by calling the selection_sort function.\n",
    "Step 15:Display the contacts after the selection sort by calling the display_contacts function.\n",
    "Step 16:Save the sorted contacts back to the file by calling the save_contacts function.Step 1:Define a class called Contact to represent a single contact.Include attribute such as name and phone to store the contact's details. Implement the _str_ method to provide a string representation of the contact."
   ]
  },
  {
   "cell_type": "code",
   "execution_count": 1,
   "id": "f0513f93",
   "metadata": {},
   "outputs": [
    {
     "name": "stdout",
     "output_type": "stream",
     "text": [
      "Unsorted Contacts:\n",
      "Name: nivi, Phone: 7550377171\n",
      "Name: subhash, Phone: 8754394125\n",
      "\n",
      "Contacts after Bubble Sort:\n",
      "Name: nivi, Phone: 7550377171\n",
      "Name: subhash, Phone: 8754394125\n",
      "\n",
      "Contacts after Insertion Sort:\n",
      "Name: nivi, Phone: 7550377171\n",
      "Name: subhash, Phone: 8754394125\n",
      "\n",
      "Contacts after Selection Sort:\n",
      "Name: nivi, Phone: 7550377171\n",
      "Name: subhash, Phone: 8754394125\n"
     ]
    }
   ],
   "source": [
    "class Contact:\n",
    "    def __init__(self, name, phone):\n",
    "        self.name = name\n",
    "        self.phone = phone\n",
    "\n",
    "    def __str__(self):\n",
    "        return f\"Name: {self.name}, Phone: {self.phone}\"\n",
    "\n",
    "def load_contacts(file_name):\n",
    "    contacts = []\n",
    "    with open(file_name, \"r\") as file:\n",
    "        for line in file:\n",
    "            name, phone = line.strip().split(\",\")\n",
    "            contact = Contact(name, phone)\n",
    "            contacts.append(contact)\n",
    "    return contacts\n",
    "\n",
    "def save_contacts(file_name, contacts):\n",
    "    with open(file_name, \"w\") as file:\n",
    "        for contact in contacts:\n",
    "            file.write(f\"{contact.name},{contact.phone}\\n\")\n",
    "\n",
    "def display_contacts(contacts):\n",
    "    for contact in contacts:\n",
    "        print(contact)\n",
    "\n",
    "def bubble_sort(contacts):\n",
    "    n = len(contacts)\n",
    "    for i in range(n):\n",
    "        for j in range(n - i - 1):\n",
    "            if contacts[j].name > contacts[j + 1].name:\n",
    "                contacts[j], contacts[j + 1] = contacts[j + 1], contacts[j]\n",
    "\n",
    "def insertion_sort(contacts):\n",
    "    for i in range(1, len(contacts)):\n",
    "        current_contact = contacts[i]\n",
    "        j = i - 1\n",
    "        while j >= 0 and current_contact.name < contacts[j].name:\n",
    "            contacts[j + 1] = contacts[j]\n",
    "            j -= 1\n",
    "        contacts[j + 1] = current_contact\n",
    "\n",
    "def selection_sort(contacts):\n",
    "    n = len(contacts)\n",
    "    for i in range(n - 1):\n",
    "        min_index = i\n",
    "        for j in range(i + 1, n):\n",
    "            if contacts[j].name < contacts[min_index].name:\n",
    "                min_index = j\n",
    "        contacts[i], contacts[min_index] = contacts[min_index], contacts[i]\n",
    "\n",
    "# Step 8\n",
    "contacts_list = load_contacts(\"contacts.txt\")\n",
    "\n",
    "# Step 9\n",
    "print(\"Unsorted Contacts:\")\n",
    "display_contacts(contacts_list)\n",
    "\n",
    "# Step 10\n",
    "bubble_sort(contacts_list)\n",
    "print(\"\\nContacts after Bubble Sort:\")\n",
    "display_contacts(contacts_list)\n",
    "\n",
    "# Step 11\n",
    "insertion_sort(contacts_list)\n",
    "print(\"\\nContacts after Insertion Sort:\")\n",
    "display_contacts(contacts_list)\n",
    "\n",
    "# Step 12\n",
    "selection_sort(contacts_list)\n",
    "print(\"\\nContacts after Selection Sort:\")\n",
    "display_contacts(contacts_list)\n",
    "\n",
    "\n",
    "# Step 14: Sort contacts using selection sort\n",
    "selection_sort(contacts_list)\n",
    "\n",
    "# Step 16\n",
    "save_contacts(\"sorted_contacts.txt\", contacts_list)\n"
   ]
  },
  {
   "cell_type": "code",
   "execution_count": null,
   "id": "7b5f36de",
   "metadata": {},
   "outputs": [],
   "source": []
  },
  {
   "cell_type": "code",
   "execution_count": null,
   "id": "29261b09",
   "metadata": {},
   "outputs": [],
   "source": []
  }
 ],
 "metadata": {
  "kernelspec": {
   "display_name": "Python 3 (ipykernel)",
   "language": "python",
   "name": "python3"
  },
  "language_info": {
   "codemirror_mode": {
    "name": "ipython",
    "version": 3
   },
   "file_extension": ".py",
   "mimetype": "text/x-python",
   "name": "python",
   "nbconvert_exporter": "python",
   "pygments_lexer": "ipython3",
   "version": "3.11.3"
  }
 },
 "nbformat": 4,
 "nbformat_minor": 5
}
